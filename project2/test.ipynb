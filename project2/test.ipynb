{
 "cells": [
  {
   "cell_type": "code",
   "execution_count": 3,
   "metadata": {},
   "outputs": [],
   "source": [
    "import pandas as pd"
   ]
  },
  {
   "cell_type": "code",
   "execution_count": 4,
   "metadata": {},
   "outputs": [],
   "source": [
    "def read_csv_data(csv_filepath):\n",
    "    data = pd.read_csv(csv_filepath, header=0, names=[\"s\", \"a\", \"r\", \"sp\"])\n",
    "    return data"
   ]
  },
  {
   "cell_type": "code",
   "execution_count": 5,
   "metadata": {},
   "outputs": [],
   "source": [
    "data = read_csv_data(\"./data/small.csv\")"
   ]
  },
  {
   "cell_type": "code",
   "execution_count": 10,
   "metadata": {},
   "outputs": [
    {
     "data": {
      "text/html": [
       "<div>\n",
       "<style scoped>\n",
       "    .dataframe tbody tr th:only-of-type {\n",
       "        vertical-align: middle;\n",
       "    }\n",
       "\n",
       "    .dataframe tbody tr th {\n",
       "        vertical-align: top;\n",
       "    }\n",
       "\n",
       "    .dataframe thead th {\n",
       "        text-align: right;\n",
       "    }\n",
       "</style>\n",
       "<table border=\"1\" class=\"dataframe\">\n",
       "  <thead>\n",
       "    <tr style=\"text-align: right;\">\n",
       "      <th></th>\n",
       "      <th>s</th>\n",
       "      <th>a</th>\n",
       "      <th>r</th>\n",
       "      <th>sp</th>\n",
       "    </tr>\n",
       "  </thead>\n",
       "  <tbody>\n",
       "    <tr>\n",
       "      <th>0</th>\n",
       "      <td>61</td>\n",
       "      <td>1</td>\n",
       "      <td>0</td>\n",
       "      <td>61</td>\n",
       "    </tr>\n",
       "    <tr>\n",
       "      <th>1</th>\n",
       "      <td>61</td>\n",
       "      <td>1</td>\n",
       "      <td>0</td>\n",
       "      <td>61</td>\n",
       "    </tr>\n",
       "    <tr>\n",
       "      <th>2</th>\n",
       "      <td>61</td>\n",
       "      <td>2</td>\n",
       "      <td>0</td>\n",
       "      <td>51</td>\n",
       "    </tr>\n",
       "    <tr>\n",
       "      <th>3</th>\n",
       "      <td>51</td>\n",
       "      <td>1</td>\n",
       "      <td>0</td>\n",
       "      <td>51</td>\n",
       "    </tr>\n",
       "    <tr>\n",
       "      <th>4</th>\n",
       "      <td>51</td>\n",
       "      <td>4</td>\n",
       "      <td>0</td>\n",
       "      <td>41</td>\n",
       "    </tr>\n",
       "    <tr>\n",
       "      <th>...</th>\n",
       "      <td>...</td>\n",
       "      <td>...</td>\n",
       "      <td>...</td>\n",
       "      <td>...</td>\n",
       "    </tr>\n",
       "    <tr>\n",
       "      <th>49995</th>\n",
       "      <td>3</td>\n",
       "      <td>4</td>\n",
       "      <td>0</td>\n",
       "      <td>3</td>\n",
       "    </tr>\n",
       "    <tr>\n",
       "      <th>49996</th>\n",
       "      <td>3</td>\n",
       "      <td>2</td>\n",
       "      <td>0</td>\n",
       "      <td>4</td>\n",
       "    </tr>\n",
       "    <tr>\n",
       "      <th>49997</th>\n",
       "      <td>4</td>\n",
       "      <td>4</td>\n",
       "      <td>0</td>\n",
       "      <td>4</td>\n",
       "    </tr>\n",
       "    <tr>\n",
       "      <th>49998</th>\n",
       "      <td>4</td>\n",
       "      <td>1</td>\n",
       "      <td>0</td>\n",
       "      <td>3</td>\n",
       "    </tr>\n",
       "    <tr>\n",
       "      <th>49999</th>\n",
       "      <td>3</td>\n",
       "      <td>1</td>\n",
       "      <td>0</td>\n",
       "      <td>2</td>\n",
       "    </tr>\n",
       "  </tbody>\n",
       "</table>\n",
       "<p>50000 rows × 4 columns</p>\n",
       "</div>"
      ],
      "text/plain": [
       "        s  a  r  sp\n",
       "0      61  1  0  61\n",
       "1      61  1  0  61\n",
       "2      61  2  0  51\n",
       "3      51  1  0  51\n",
       "4      51  4  0  41\n",
       "...    .. .. ..  ..\n",
       "49995   3  4  0   3\n",
       "49996   3  2  0   4\n",
       "49997   4  4  0   4\n",
       "49998   4  1  0   3\n",
       "49999   3  1  0   2\n",
       "\n",
       "[50000 rows x 4 columns]"
      ]
     },
     "execution_count": 10,
     "metadata": {},
     "output_type": "execute_result"
    }
   ],
   "source": [
    "data"
   ]
  },
  {
   "cell_type": "code",
   "execution_count": 11,
   "metadata": {},
   "outputs": [],
   "source": [
    "medium = read_csv_data(\"./data/medium.csv\")"
   ]
  },
  {
   "cell_type": "code",
   "execution_count": 12,
   "metadata": {},
   "outputs": [
    {
     "data": {
      "text/html": [
       "<div>\n",
       "<style scoped>\n",
       "    .dataframe tbody tr th:only-of-type {\n",
       "        vertical-align: middle;\n",
       "    }\n",
       "\n",
       "    .dataframe tbody tr th {\n",
       "        vertical-align: top;\n",
       "    }\n",
       "\n",
       "    .dataframe thead th {\n",
       "        text-align: right;\n",
       "    }\n",
       "</style>\n",
       "<table border=\"1\" class=\"dataframe\">\n",
       "  <thead>\n",
       "    <tr style=\"text-align: right;\">\n",
       "      <th></th>\n",
       "      <th>s</th>\n",
       "      <th>a</th>\n",
       "      <th>r</th>\n",
       "      <th>sp</th>\n",
       "    </tr>\n",
       "  </thead>\n",
       "  <tbody>\n",
       "    <tr>\n",
       "      <th>0</th>\n",
       "      <td>24701</td>\n",
       "      <td>3</td>\n",
       "      <td>-25</td>\n",
       "      <td>24701</td>\n",
       "    </tr>\n",
       "    <tr>\n",
       "      <th>1</th>\n",
       "      <td>24701</td>\n",
       "      <td>2</td>\n",
       "      <td>-100</td>\n",
       "      <td>24201</td>\n",
       "    </tr>\n",
       "    <tr>\n",
       "      <th>2</th>\n",
       "      <td>24201</td>\n",
       "      <td>3</td>\n",
       "      <td>-25</td>\n",
       "      <td>24200</td>\n",
       "    </tr>\n",
       "    <tr>\n",
       "      <th>3</th>\n",
       "      <td>24200</td>\n",
       "      <td>4</td>\n",
       "      <td>0</td>\n",
       "      <td>24200</td>\n",
       "    </tr>\n",
       "    <tr>\n",
       "      <th>4</th>\n",
       "      <td>24200</td>\n",
       "      <td>4</td>\n",
       "      <td>0</td>\n",
       "      <td>24200</td>\n",
       "    </tr>\n",
       "    <tr>\n",
       "      <th>...</th>\n",
       "      <td>...</td>\n",
       "      <td>...</td>\n",
       "      <td>...</td>\n",
       "      <td>...</td>\n",
       "    </tr>\n",
       "    <tr>\n",
       "      <th>99995</th>\n",
       "      <td>19163</td>\n",
       "      <td>7</td>\n",
       "      <td>-225</td>\n",
       "      <td>20159</td>\n",
       "    </tr>\n",
       "    <tr>\n",
       "      <th>99996</th>\n",
       "      <td>20159</td>\n",
       "      <td>1</td>\n",
       "      <td>-225</td>\n",
       "      <td>20156</td>\n",
       "    </tr>\n",
       "    <tr>\n",
       "      <th>99997</th>\n",
       "      <td>20156</td>\n",
       "      <td>1</td>\n",
       "      <td>-225</td>\n",
       "      <td>20653</td>\n",
       "    </tr>\n",
       "    <tr>\n",
       "      <th>99998</th>\n",
       "      <td>20653</td>\n",
       "      <td>1</td>\n",
       "      <td>-225</td>\n",
       "      <td>20650</td>\n",
       "    </tr>\n",
       "    <tr>\n",
       "      <th>99999</th>\n",
       "      <td>25343</td>\n",
       "      <td>3</td>\n",
       "      <td>-25</td>\n",
       "      <td>24712</td>\n",
       "    </tr>\n",
       "  </tbody>\n",
       "</table>\n",
       "<p>100000 rows × 4 columns</p>\n",
       "</div>"
      ],
      "text/plain": [
       "           s  a    r     sp\n",
       "0      24701  3  -25  24701\n",
       "1      24701  2 -100  24201\n",
       "2      24201  3  -25  24200\n",
       "3      24200  4    0  24200\n",
       "4      24200  4    0  24200\n",
       "...      ... ..  ...    ...\n",
       "99995  19163  7 -225  20159\n",
       "99996  20159  1 -225  20156\n",
       "99997  20156  1 -225  20653\n",
       "99998  20653  1 -225  20650\n",
       "99999  25343  3  -25  24712\n",
       "\n",
       "[100000 rows x 4 columns]"
      ]
     },
     "execution_count": 12,
     "metadata": {},
     "output_type": "execute_result"
    }
   ],
   "source": [
    "medium"
   ]
  },
  {
   "cell_type": "code",
   "execution_count": 18,
   "metadata": {},
   "outputs": [],
   "source": [
    "rows = medium[medium[\"r\"] == medium[\"r\"].max()]"
   ]
  },
  {
   "cell_type": "code",
   "execution_count": 19,
   "metadata": {},
   "outputs": [
    {
     "data": {
      "text/html": [
       "<div>\n",
       "<style scoped>\n",
       "    .dataframe tbody tr th:only-of-type {\n",
       "        vertical-align: middle;\n",
       "    }\n",
       "\n",
       "    .dataframe tbody tr th {\n",
       "        vertical-align: top;\n",
       "    }\n",
       "\n",
       "    .dataframe thead th {\n",
       "        text-align: right;\n",
       "    }\n",
       "</style>\n",
       "<table border=\"1\" class=\"dataframe\">\n",
       "  <thead>\n",
       "    <tr style=\"text-align: right;\">\n",
       "      <th></th>\n",
       "      <th>s</th>\n",
       "      <th>a</th>\n",
       "      <th>r</th>\n",
       "      <th>sp</th>\n",
       "    </tr>\n",
       "  </thead>\n",
       "  <tbody>\n",
       "    <tr>\n",
       "      <th>3229</th>\n",
       "      <td>31965</td>\n",
       "      <td>4</td>\n",
       "      <td>100000</td>\n",
       "      <td>31469</td>\n",
       "    </tr>\n",
       "    <tr>\n",
       "      <th>10780</th>\n",
       "      <td>30464</td>\n",
       "      <td>4</td>\n",
       "      <td>100000</td>\n",
       "      <td>29967</td>\n",
       "    </tr>\n",
       "    <tr>\n",
       "      <th>11259</th>\n",
       "      <td>31963</td>\n",
       "      <td>4</td>\n",
       "      <td>100000</td>\n",
       "      <td>31467</td>\n",
       "    </tr>\n",
       "    <tr>\n",
       "      <th>13381</th>\n",
       "      <td>27965</td>\n",
       "      <td>4</td>\n",
       "      <td>100000</td>\n",
       "      <td>27967</td>\n",
       "    </tr>\n",
       "    <tr>\n",
       "      <th>27417</th>\n",
       "      <td>29966</td>\n",
       "      <td>4</td>\n",
       "      <td>100000</td>\n",
       "      <td>29469</td>\n",
       "    </tr>\n",
       "    <tr>\n",
       "      <th>59315</th>\n",
       "      <td>31966</td>\n",
       "      <td>4</td>\n",
       "      <td>100000</td>\n",
       "      <td>31971</td>\n",
       "    </tr>\n",
       "    <tr>\n",
       "      <th>68160</th>\n",
       "      <td>33461</td>\n",
       "      <td>4</td>\n",
       "      <td>100000</td>\n",
       "      <td>33467</td>\n",
       "    </tr>\n",
       "  </tbody>\n",
       "</table>\n",
       "</div>"
      ],
      "text/plain": [
       "           s  a       r     sp\n",
       "3229   31965  4  100000  31469\n",
       "10780  30464  4  100000  29967\n",
       "11259  31963  4  100000  31467\n",
       "13381  27965  4  100000  27967\n",
       "27417  29966  4  100000  29469\n",
       "59315  31966  4  100000  31971\n",
       "68160  33461  4  100000  33467"
      ]
     },
     "execution_count": 19,
     "metadata": {},
     "output_type": "execute_result"
    }
   ],
   "source": [
    "rows"
   ]
  },
  {
   "cell_type": "code",
   "execution_count": 27,
   "metadata": {},
   "outputs": [],
   "source": [
    "rows = medium[\"s\"]%500"
   ]
  },
  {
   "cell_type": "code",
   "execution_count": 31,
   "metadata": {},
   "outputs": [
    {
     "data": {
      "text/plain": [
       "5629     466\n",
       "11637    466\n",
       "12060    466\n",
       "27417    466\n",
       "27793    466\n",
       "45713    466\n",
       "46848    466\n",
       "49426    466\n",
       "59315    466\n",
       "68910    466\n",
       "79597    466\n",
       "81769    466\n",
       "85892    466\n",
       "87357    466\n",
       "93428    466\n",
       "94747    466\n",
       "Name: s, dtype: int64"
      ]
     },
     "execution_count": 31,
     "metadata": {},
     "output_type": "execute_result"
    }
   ],
   "source": [
    "rows[rows == max(rows)]"
   ]
  },
  {
   "cell_type": "code",
   "execution_count": 34,
   "metadata": {},
   "outputs": [
    {
     "data": {
      "text/plain": [
       "s     31966\n",
       "a         3\n",
       "r     99975\n",
       "sp    31471\n",
       "Name: 5629, dtype: int64"
      ]
     },
     "execution_count": 34,
     "metadata": {},
     "output_type": "execute_result"
    }
   ],
   "source": [
    "medium.iloc[5629]"
   ]
  },
  {
   "cell_type": "code",
   "execution_count": 37,
   "metadata": {},
   "outputs": [
    {
     "name": "stdout",
     "output_type": "stream",
     "text": [
      "Potential End States: {35970, 30467, 30468, 30469, 35467, 9612, 33036, 35468, 29967, 35470, 29969, 42617, 29467, 29469, 34973, 18211, 34470, 28967, 28969, 44715, 33970, 28467, 33467, 33468, 42811, 32446, 27967, 27968, 33470, 33472, 13379, 32966, 32967, 27466, 27467, 43470, 32467, 32468, 32469, 26967, 32471, 31967, 31968, 31969, 31971, 36969, 31466, 31467, 31468, 31469, 17902, 31471, 36973, 30967, 30968, 30969, 30970}\n"
     ]
    }
   ],
   "source": [
    "data = read_csv_data(\"./data/medium.csv\")\n",
    "# Find potential end tates (states that appear as 'sp' but not as 's')\n",
    "potential_end_states = set(data['sp']) - set(data['s'])\n",
    "print(\"Potential End States:\", potential_end_states)"
   ]
  },
  {
   "cell_type": "code",
   "execution_count": 38,
   "metadata": {},
   "outputs": [],
   "source": [
    "a = [b%500 for b in potential_end_states]"
   ]
  },
  {
   "cell_type": "code",
   "execution_count": 39,
   "metadata": {},
   "outputs": [
    {
     "data": {
      "text/plain": [
       "[470,\n",
       " 467,\n",
       " 468,\n",
       " 469,\n",
       " 467,\n",
       " 112,\n",
       " 36,\n",
       " 468,\n",
       " 467,\n",
       " 470,\n",
       " 469,\n",
       " 117,\n",
       " 467,\n",
       " 469,\n",
       " 473,\n",
       " 211,\n",
       " 470,\n",
       " 467,\n",
       " 469,\n",
       " 215,\n",
       " 470,\n",
       " 467,\n",
       " 467,\n",
       " 468,\n",
       " 311,\n",
       " 446,\n",
       " 467,\n",
       " 468,\n",
       " 470,\n",
       " 472,\n",
       " 379,\n",
       " 466,\n",
       " 467,\n",
       " 466,\n",
       " 467,\n",
       " 470,\n",
       " 467,\n",
       " 468,\n",
       " 469,\n",
       " 467,\n",
       " 471,\n",
       " 467,\n",
       " 468,\n",
       " 469,\n",
       " 471,\n",
       " 469,\n",
       " 466,\n",
       " 467,\n",
       " 468,\n",
       " 469,\n",
       " 402,\n",
       " 471,\n",
       " 473,\n",
       " 467,\n",
       " 468,\n",
       " 469,\n",
       " 470]"
      ]
     },
     "execution_count": 39,
     "metadata": {},
     "output_type": "execute_result"
    }
   ],
   "source": [
    "a"
   ]
  },
  {
   "cell_type": "code",
   "execution_count": 82,
   "metadata": {},
   "outputs": [
    {
     "data": {
      "image/png": "[encoded data removed]",
      "text/plain": [
       "<Figure size 1000x600 with 1 Axes>"
      ]
     },
     "metadata": {},
     "output_type": "display_data"
    }
   ],
   "source": [
    "import matplotlib.pyplot as plt\n",
    "from collections import Counter\n",
    "\n",
    "# Read the policy file and store each line as an element in a list\n",
    "with open(\"./result/medium.policy\", \"r\") as file:\n",
    "    elements = [line.strip() for line in file]\n",
    "\n",
    "# Count the occurrences of each element\n",
    "element_counts = Counter(elements)\n",
    "\n",
    "# Plot the histogram\n",
    "plt.figure(figsize=(10, 6))\n",
    "plt.bar(element_counts.keys(), element_counts.values())\n",
    "plt.xlabel(\"Elements\")\n",
    "plt.ylabel(\"Frequency\")\n",
    "plt.title(\"Histogram of Elements in Policy File\")\n",
    "plt.show()\n"
   ]
  },
  {
   "cell_type": "code",
   "execution_count": 71,
   "metadata": {},
   "outputs": [
    {
     "data": {
      "text/plain": [
       "{-225, -100, -25, 0, 99775, 99900, 99975, 100000}"
      ]
     },
     "execution_count": 71,
     "metadata": {},
     "output_type": "execute_result"
    }
   ],
   "source": [
    "import pandas as pd\n",
    "\n",
    "df = pd.read_csv(\"./data/medium.csv\")\n",
    "set(df[\"r\"])"
   ]
  },
  {
   "cell_type": "code",
   "execution_count": 77,
   "metadata": {},
   "outputs": [
    {
     "data": {
      "text/plain": [
       "100000"
      ]
     },
     "execution_count": 77,
     "metadata": {},
     "output_type": "execute_result"
    }
   ],
   "source": [
    "len(df)"
   ]
  },
  {
   "cell_type": "code",
   "execution_count": null,
   "metadata": {},
   "outputs": [],
   "source": []
  }
 ],
 "metadata": {
  "kernelspec": {
   "display_name": "base",
   "language": "python",
   "name": "python3"
  },
  "language_info": {
   "codemirror_mode": {
    "name": "ipython",
    "version": 3
   },
   "file_extension": ".py",
   "mimetype": "text/x-python",
   "name": "python",
   "nbconvert_exporter": "python",
   "pygments_lexer": "ipython3",
   "version": "3.12.2"
  }
 },
 "nbformat": 4,
 "nbformat_minor": 2
}
